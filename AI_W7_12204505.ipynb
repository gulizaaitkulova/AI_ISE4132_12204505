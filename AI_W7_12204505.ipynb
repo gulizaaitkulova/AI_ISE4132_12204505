{
  "cells": [
    {
      "cell_type": "markdown",
      "metadata": {
        "id": "view-in-github",
        "colab_type": "text"
      },
      "source": [
        "<a href=\"https://colab.research.google.com/github/gulizaaitkulova/AI_ISE4132_12204505/blob/main/AI_W7_12204505.ipynb\" target=\"_parent\"><img src=\"https://colab.research.google.com/assets/colab-badge.svg\" alt=\"Open In Colab\"/></a>"
      ]
    },
    {
      "cell_type": "code",
      "execution_count": null,
      "metadata": {
        "id": "iQsfP8UcHHHI"
      },
      "outputs": [],
      "source": [
        "# Import TensorFlow\n",
        "import tensorflow as tf"
      ]
    },
    {
      "cell_type": "code",
      "execution_count": null,
      "metadata": {
        "id": "0u_pQVZ9Q3JC"
      },
      "outputs": [],
      "source": [
        "# Load the MNIST dataset\n",
        "mnist = tf.keras.datasets.mnist\n",
        "(train_images, train_labels), (test_images, test_labels) = mnist.load_data()\n",
        "\n",
        "# Normalize the images\n",
        "train_images, test_images = train_images / 255.0, test_images / 255.0"
      ]
    },
    {
      "cell_type": "code",
      "execution_count": null,
      "metadata": {
        "id": "hFZvb2QkP55_"
      },
      "outputs": [],
      "source": [
        "# Build a Simple RNN model\n",
        "model = tf.keras.Sequential([\n",
        "    tf.keras.layers.SimpleRNN(128, activation ='relu', input_shape = (28, 28)),\n",
        "    tf.keras.layers.Dense(10, activation ='softmax')\n",
        "])"
      ]
    },
    {
      "cell_type": "code",
      "execution_count": null,
      "metadata": {
        "id": "HJ8d4eRbMQlb"
      },
      "outputs": [],
      "source": [
        "# Compile the model\n",
        "model.compile(optimizer='adam', loss ='sparse_categorical_crossentropy', metrics =['accuracy'])"
      ]
    },
    {
      "cell_type": "code",
      "execution_count": null,
      "metadata": {
        "colab": {
          "base_uri": "https://localhost:8080/"
        },
        "id": "WdXhdqZnROPb",
        "outputId": "50704636-8a77-4bc8-ee80-2b429fb80931"
      },
      "outputs": [
        {
          "name": "stdout",
          "output_type": "stream",
          "text": [
            "Epoch 1/5\n",
            "1875/1875 [==============================] - 24s 12ms/step - loss: 0.4138 - accuracy: 0.8700\n",
            "Epoch 2/5\n",
            "1875/1875 [==============================] - 23s 12ms/step - loss: 0.1867 - accuracy: 0.9470\n",
            "Epoch 3/5\n",
            "1875/1875 [==============================] - 20s 11ms/step - loss: 0.1565 - accuracy: 0.9562\n",
            "Epoch 4/5\n",
            "1875/1875 [==============================] - 20s 11ms/step - loss: 0.1367 - accuracy: 0.9617\n",
            "Epoch 5/5\n",
            "1875/1875 [==============================] - 21s 11ms/step - loss: 0.1254 - accuracy: 0.9653\n"
          ]
        },
        {
          "data": {
            "text/plain": [
              "<keras.src.callbacks.History at 0x7befb60e4640>"
            ]
          },
          "execution_count": 31,
          "metadata": {},
          "output_type": "execute_result"
        }
      ],
      "source": [
        "# Train the model\n",
        "model.fit(train_images, train_labels, epochs =5)"
      ]
    },
    {
      "cell_type": "code",
      "execution_count": null,
      "metadata": {
        "colab": {
          "base_uri": "https://localhost:8080/"
        },
        "id": "TT00KuWfRTQh",
        "outputId": "b27ea9b6-625b-44ed-c2f1-4421c076bc00"
      },
      "outputs": [
        {
          "name": "stdout",
          "output_type": "stream",
          "text": [
            "313/313 [==============================] - 2s 5ms/step - loss: 0.1361 - accuracy: 0.9604\n"
          ]
        }
      ],
      "source": [
        "# Evaluate the model\n",
        "test_loss, test_acc = model.evaluate(test_images , test_labels)"
      ]
    },
    {
      "cell_type": "code",
      "execution_count": null,
      "metadata": {
        "id": "aYBrrJF2H24h"
      },
      "outputs": [],
      "source": [
        "# Build a more complex Simple RNN model\n",
        "model = tf.keras.Sequential([\n",
        "    tf.keras.layers.SimpleRNN(128, activation = 'relu', return_sequences = True , input_shape =(28, 28)),\n",
        "    tf.keras.layers.SimpleRNN(64, activation = 'relu'),\n",
        "    tf.keras.layers.Dense(10, activation = 'softmax')\n",
        "])"
      ]
    },
    {
      "cell_type": "code",
      "execution_count": null,
      "metadata": {
        "colab": {
          "base_uri": "https://localhost:8080/"
        },
        "id": "sEJQJIPTSFTZ",
        "outputId": "5af51f51-f3e5-473b-fa72-339fbefa72a0"
      },
      "outputs": [
        {
          "name": "stdout",
          "output_type": "stream",
          "text": [
            "Epoch 1/5\n",
            "1875/1875 [==============================] - 48s 24ms/step - loss: 0.4145 - accuracy: 0.8676\n",
            "Epoch 2/5\n",
            "1875/1875 [==============================] - 39s 21ms/step - loss: 0.1664 - accuracy: 0.9514\n",
            "Epoch 3/5\n",
            "1875/1875 [==============================] - 35s 19ms/step - loss: 0.1345 - accuracy: 0.9620\n",
            "Epoch 4/5\n",
            "1875/1875 [==============================] - 42s 22ms/step - loss: 0.1168 - accuracy: 0.9671\n",
            "Epoch 5/5\n",
            "1875/1875 [==============================] - 40s 21ms/step - loss: 0.1045 - accuracy: 0.9704\n",
            "313/313 [==============================] - 3s 8ms/step - loss: 0.1074 - accuracy: 0.9706\n"
          ]
        }
      ],
      "source": [
        "# Compile the model\n",
        "model.compile(optimizer='adam', loss ='sparse_categorical_crossentropy', metrics =['accuracy'])\n",
        "# Train the model\n",
        "model.fit(train_images, train_labels, epochs =5)\n",
        "# Evaluate the model\n",
        "test_loss, test_acc = model.evaluate(test_images , test_labels)"
      ]
    },
    {
      "cell_type": "code",
      "execution_count": null,
      "metadata": {
        "id": "xEKAEgh-IfW1"
      },
      "outputs": [],
      "source": [
        "# Build another complex Simple RNN model\n",
        "model = tf.keras.Sequential([\n",
        "    tf.keras.layers.SimpleRNN(128, activation = 'relu', return_sequences = True , input_shape =(28, 28)),\n",
        "    tf.keras.layers.Dropout(0.2),\n",
        "    tf.keras.layers.SimpleRNN(64, activation = 'relu'),\n",
        "    tf.keras.layers.Dense(10, activation = 'softmax')\n",
        "])"
      ]
    },
    {
      "cell_type": "code",
      "execution_count": null,
      "metadata": {
        "colab": {
          "base_uri": "https://localhost:8080/"
        },
        "id": "Dgb5u-tjSUBT",
        "outputId": "3a68b3e5-1c5f-450f-b212-39c26adc1215"
      },
      "outputs": [
        {
          "name": "stdout",
          "output_type": "stream",
          "text": [
            "Epoch 1/5\n",
            "1875/1875 [==============================] - 46s 23ms/step - loss: 0.4226 - accuracy: 0.8648\n",
            "Epoch 2/5\n",
            "1875/1875 [==============================] - 40s 21ms/step - loss: 0.1723 - accuracy: 0.9495\n",
            "Epoch 3/5\n",
            "1875/1875 [==============================] - 42s 22ms/step - loss: 0.1373 - accuracy: 0.9607\n",
            "Epoch 4/5\n",
            "1875/1875 [==============================] - 40s 21ms/step - loss: 0.1196 - accuracy: 0.9654\n",
            "Epoch 5/5\n",
            "1875/1875 [==============================] - 44s 24ms/step - loss: 0.1043 - accuracy: 0.9703\n",
            "313/313 [==============================] - 3s 7ms/step - loss: 0.0767 - accuracy: 0.9779\n"
          ]
        }
      ],
      "source": [
        "# Compile the model\n",
        "model.compile(optimizer='adam', loss ='sparse_categorical_crossentropy', metrics =['accuracy'])\n",
        "# Train the model\n",
        "model.fit(train_images, train_labels, epochs =5)\n",
        "# Evaluate the model\n",
        "test_loss, test_acc = model.evaluate(test_images , test_labels)"
      ]
    },
    {
      "cell_type": "code",
      "execution_count": null,
      "metadata": {
        "id": "y8VCQzXZJBoH"
      },
      "outputs": [],
      "source": [
        "# Build an LSTM model\n",
        "model = tf.keras.Sequential([\n",
        "    tf.keras.layers.LSTM(128, activation = 'relu', input_shape = (28, 28)),\n",
        "    tf.keras.layers.Dense(10, activation = 'softmax')\n",
        "])"
      ]
    },
    {
      "cell_type": "code",
      "execution_count": null,
      "metadata": {
        "colab": {
          "background_save": true,
          "base_uri": "https://localhost:8080/"
        },
        "id": "CMCM_tj0SVmH",
        "outputId": "97ab616d-e440-4552-8df5-ddfedf77e036"
      },
      "outputs": [
        {
          "name": "stdout",
          "output_type": "stream",
          "text": [
            "Epoch 1/5\n",
            "1875/1875 [==============================] - 78s 41ms/step - loss: 0.4899 - accuracy: 0.8426\n",
            "Epoch 2/5\n",
            "1875/1875 [==============================] - 78s 41ms/step - loss: 0.1168 - accuracy: 0.9653\n",
            "Epoch 3/5\n",
            "1875/1875 [==============================] - 74s 40ms/step - loss: 0.0832 - accuracy: 0.9744\n",
            "Epoch 4/5\n",
            "1875/1875 [==============================] - 72s 38ms/step - loss: 0.0636 - accuracy: 0.9804\n",
            "Epoch 5/5\n",
            "1875/1875 [==============================] - 75s 40ms/step - loss: 0.0514 - accuracy: 0.9843\n",
            "313/313 [==============================] - 6s 18ms/step - loss: 0.0656 - accuracy: 0.9811\n"
          ]
        }
      ],
      "source": [
        "# Compile the model\n",
        "model.compile(optimizer='adam', loss ='sparse_categorical_crossentropy', metrics =['accuracy'])\n",
        "# Train the model\n",
        "model.fit(train_images, train_labels, epochs =5)\n",
        "# Evaluate the model\n",
        "test_loss, test_acc = model.evaluate(test_images , test_labels)"
      ]
    },
    {
      "cell_type": "code",
      "execution_count": null,
      "metadata": {
        "colab": {
          "background_save": true
        },
        "id": "Exyh7pBwJZLY"
      },
      "outputs": [],
      "source": [
        "# Build a more complex LSTM model\n",
        "model = tf.keras.Sequential([\n",
        "    tf.keras.layers.LSTM(128, activation = 'relu', return_sequences = True, input_shape = (28, 28)),\n",
        "    tf.keras.layers.LSTM(64, activation = 'relu'),\n",
        "    tf.keras.layers.Dense(10, activation ='softmax')\n",
        "])"
      ]
    },
    {
      "cell_type": "code",
      "execution_count": null,
      "metadata": {
        "colab": {
          "background_save": true,
          "base_uri": "https://localhost:8080/"
        },
        "id": "brPQWaNbSWb_",
        "outputId": "5c9a0ed1-30a1-41b4-fdba-02d305ece938"
      },
      "outputs": [
        {
          "name": "stdout",
          "output_type": "stream",
          "text": [
            "Epoch 1/5\n",
            "1875/1875 [==============================] - 118s 62ms/step - loss: 0.4651 - accuracy: 0.8486\n",
            "Epoch 2/5\n",
            "1875/1875 [==============================] - 112s 60ms/step - loss: 0.1147 - accuracy: 0.9659\n",
            "Epoch 3/5\n",
            "1875/1875 [==============================] - 103s 55ms/step - loss: 0.0818 - accuracy: 0.9755\n",
            "Epoch 4/5\n",
            "1875/1875 [==============================] - 106s 56ms/step - loss: 0.0635 - accuracy: 0.9803\n",
            "Epoch 5/5\n",
            "1875/1875 [==============================] - 110s 59ms/step - loss: 0.0505 - accuracy: 0.9847\n",
            "313/313 [==============================] - 8s 25ms/step - loss: 0.0459 - accuracy: 0.9856\n"
          ]
        }
      ],
      "source": [
        "# Compile the model\n",
        "model.compile(optimizer='adam', loss ='sparse_categorical_crossentropy', metrics =['accuracy'])\n",
        "# Train the model\n",
        "model.fit(train_images, train_labels, epochs =5)\n",
        "# Evaluate the model\n",
        "test_loss, test_acc = model.evaluate(test_images , test_labels)"
      ]
    },
    {
      "cell_type": "code",
      "execution_count": null,
      "metadata": {
        "colab": {
          "background_save": true
        },
        "id": "ev7TjqqGJ8W7"
      },
      "outputs": [],
      "source": [
        "# Build another complex LSTM model\n",
        "model = tf.keras.Sequential([\n",
        "    tf.keras.layers.LSTM(128, activation = 'relu', return_sequences = True , input_shape = (28, 28)),\n",
        "    tf.keras.layers.Dropout(0.2),\n",
        "    tf.keras.layers.LSTM(64, activation = 'relu'),\n",
        "    tf.keras.layers.Dense(10, activation = 'softmax')\n",
        "])"
      ]
    },
    {
      "cell_type": "code",
      "execution_count": null,
      "metadata": {
        "colab": {
          "background_save": true
        },
        "id": "p-llPBb1SXRZ",
        "outputId": "520935cc-7a1b-44ce-b915-2c6f77b49dbc"
      },
      "outputs": [
        {
          "name": "stdout",
          "output_type": "stream",
          "text": [
            "Epoch 1/5\n",
            "1875/1875 [==============================] - 123s 64ms/step - loss: 0.4160 - accuracy: 0.8673\n",
            "Epoch 2/5\n",
            "1875/1875 [==============================] - 114s 61ms/step - loss: 0.1127 - accuracy: 0.9665\n",
            "Epoch 3/5\n",
            "1875/1875 [==============================] - 116s 62ms/step - loss: 0.0800 - accuracy: 0.9764\n",
            "Epoch 4/5\n",
            "1875/1875 [==============================] - 114s 61ms/step - loss: 0.0617 - accuracy: 0.9817\n",
            "Epoch 5/5\n",
            "1875/1875 [==============================] - 110s 58ms/step - loss: 0.0497 - accuracy: 0.9850\n",
            "313/313 [==============================] - 7s 20ms/step - loss: 0.0478 - accuracy: 0.9848\n"
          ]
        }
      ],
      "source": [
        "# Compile the model\n",
        "model.compile(optimizer='adam', loss ='sparse_categorical_crossentropy', metrics =['accuracy'])\n",
        "# Train the model\n",
        "model.fit(train_images, train_labels, epochs =5)\n",
        "# Evaluate the model\n",
        "test_loss, test_acc = model.evaluate(test_images , test_labels)"
      ]
    },
    {
      "cell_type": "code",
      "execution_count": null,
      "metadata": {
        "colab": {
          "background_save": true
        },
        "id": "0cvU9lNTKPau"
      },
      "outputs": [],
      "source": [
        "# Build a GRU model\n",
        "model = tf.keras.Sequential([\n",
        "    tf.keras.layers.GRU(128, activation = 'relu', input_shape =(28, 28)),\n",
        "    tf.keras.layers.Dense(10, activation = 'softmax')\n",
        "])"
      ]
    },
    {
      "cell_type": "code",
      "execution_count": null,
      "metadata": {
        "colab": {
          "background_save": true,
          "base_uri": "https://localhost:8080/"
        },
        "id": "TdbGy-0WSYDY",
        "outputId": "1e03b187-a3ec-4a73-9f5b-9bd9bf7be600"
      },
      "outputs": [
        {
          "name": "stdout",
          "output_type": "stream",
          "text": [
            "Epoch 1/5\n",
            "1875/1875 [==============================] - 51s 27ms/step - loss: 0.3566 - accuracy: 0.8807\n",
            "Epoch 2/5\n",
            "1875/1875 [==============================] - 51s 27ms/step - loss: 0.0938 - accuracy: 0.9708\n",
            "Epoch 3/5\n",
            "1875/1875 [==============================] - 51s 27ms/step - loss: 0.0642 - accuracy: 0.9801\n",
            "Epoch 4/5\n",
            "1875/1875 [==============================] - 53s 29ms/step - loss: 0.0525 - accuracy: 0.9839\n",
            "Epoch 5/5\n",
            "1875/1875 [==============================] - 51s 27ms/step - loss: 0.0439 - accuracy: 0.9868\n",
            "313/313 [==============================] - 3s 9ms/step - loss: 0.0409 - accuracy: 0.9868\n"
          ]
        }
      ],
      "source": [
        "# Compile the model\n",
        "model.compile(optimizer='adam', loss ='sparse_categorical_crossentropy', metrics =['accuracy'])\n",
        "# Train the model\n",
        "model.fit(train_images, train_labels, epochs =5)\n",
        "# Evaluate the model\n",
        "test_loss, test_acc = model.evaluate(test_images , test_labels)"
      ]
    },
    {
      "cell_type": "code",
      "execution_count": null,
      "metadata": {
        "colab": {
          "background_save": true
        },
        "id": "ALOokKCeK8GH"
      },
      "outputs": [],
      "source": [
        "# Build a more complex GRU model\n",
        "model = tf.keras.Sequential([\n",
        "    tf.keras.layers.GRU(128, activation = 'relu', return_sequences = True, input_shape = (28, 28)),\n",
        "    tf.keras.layers.GRU(64, activation = 'relu'),\n",
        "    tf.keras.layers.Dense(10, activation = 'softmax')\n",
        "])"
      ]
    },
    {
      "cell_type": "code",
      "execution_count": null,
      "metadata": {
        "colab": {
          "background_save": true
        },
        "id": "eMmUIU6HSYzV",
        "outputId": "5262dc48-76eb-4085-9522-2192e6fae647"
      },
      "outputs": [
        {
          "name": "stdout",
          "output_type": "stream",
          "text": [
            "Epoch 1/5\n",
            "1875/1875 [==============================] - 77s 40ms/step - loss: 0.3350 - accuracy: 0.8871\n",
            "Epoch 2/5\n",
            "1875/1875 [==============================] - 74s 40ms/step - loss: 0.0870 - accuracy: 0.9733\n",
            "Epoch 3/5\n",
            "1875/1875 [==============================] - 75s 40ms/step - loss: 0.0620 - accuracy: 0.9810\n",
            "Epoch 4/5\n",
            "1875/1875 [==============================] - 75s 40ms/step - loss: 0.0490 - accuracy: 0.9850\n",
            "Epoch 5/5\n",
            "1875/1875 [==============================] - 75s 40ms/step - loss: 0.0409 - accuracy: 0.9873\n",
            "313/313 [==============================] - 5s 16ms/step - loss: 0.0348 - accuracy: 0.9887\n"
          ]
        }
      ],
      "source": [
        "# Compile the model\n",
        "model.compile(optimizer='adam', loss ='sparse_categorical_crossentropy', metrics =['accuracy'])\n",
        "# Train the model\n",
        "model.fit(train_images, train_labels, epochs =5)\n",
        "# Evaluate the model\n",
        "test_loss, test_acc = model.evaluate(test_images , test_labels)"
      ]
    },
    {
      "cell_type": "code",
      "execution_count": null,
      "metadata": {
        "colab": {
          "background_save": true
        },
        "id": "pDOMm0bVLYGC"
      },
      "outputs": [],
      "source": [
        "# Build another complex GRU model\n",
        "model = tf.keras.Sequential([\n",
        "    tf.keras.layers.GRU(128, activation = 'relu', return_sequences = True, input_shape =(28, 28)),\n",
        "    tf.keras.layers.Dropout(0.2),\n",
        "    tf.keras.layers.GRU(64, activation = 'relu'),\n",
        "    tf.keras.layers.Dense(10, activation = 'softmax')\n",
        "])"
      ]
    },
    {
      "cell_type": "code",
      "execution_count": null,
      "metadata": {
        "id": "9CGAqbQySZlT"
      },
      "outputs": [],
      "source": [
        "# Compile the model\n",
        "model.compile(optimizer='adam', loss ='sparse_categorical_crossentropy', metrics =['accuracy'])\n",
        "# Train the model\n",
        "model.fit(train_images, train_labels, epochs =5)\n",
        "# Evaluate the model\n",
        "test_loss, test_acc = model.evaluate(test_images , test_labels)"
      ]
    }
  ],
  "metadata": {
    "colab": {
      "provenance": [],
      "authorship_tag": "ABX9TyOl+WxEozyBADZPtSmcKO9k",
      "include_colab_link": true
    },
    "kernelspec": {
      "display_name": "Python 3",
      "name": "python3"
    },
    "language_info": {
      "name": "python"
    }
  },
  "nbformat": 4,
  "nbformat_minor": 0
}